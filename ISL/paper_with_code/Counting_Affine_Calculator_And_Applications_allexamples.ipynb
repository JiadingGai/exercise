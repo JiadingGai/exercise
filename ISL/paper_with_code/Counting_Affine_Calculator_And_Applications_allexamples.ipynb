{
 "cells": [
  {
   "cell_type": "markdown",
   "id": "a5f476ab",
   "metadata": {},
   "source": [
    "# This notebook reproduces all the examples in Sven Vergoolaege's paper \"Counting Affine Calculator and Applications.\""
   ]
  },
  {
   "cell_type": "code",
   "execution_count": 16,
   "id": "bb8835e6",
   "metadata": {},
   "outputs": [
    {
     "name": "stdout",
     "output_type": "stream",
     "text": [
      "Populating the interactive namespace from numpy and matplotlib\n"
     ]
    },
    {
     "name": "stderr",
     "output_type": "stream",
     "text": [
      "/opt/homebrew/lib/python3.9/site-packages/IPython/core/magics/pylab.py:159: UserWarning: pylab import has clobbered these variables: ['cast']\n",
      "`%matplotlib` prevents importing * from pylab and numpy\n",
      "  warn(\"pylab import has clobbered these variables: %s\"  % clobbered +\n"
     ]
    }
   ],
   "source": [
    "%pylab inline\n",
    "# Load islpy and islplot\n",
    "from islpy import *\n",
    "from islplot.plotter import *"
   ]
  },
  {
   "cell_type": "code",
   "execution_count": 17,
   "id": "68fefafe",
   "metadata": {},
   "outputs": [
    {
     "name": "stdout",
     "output_type": "stream",
     "text": [
      "Iteration Domain:  <class 'islpy._isl.UnionSet'> [n] -> { S1[i] : 0 <= i <= n; S2[i] : 0 <= i <= n }\n"
     ]
    }
   ],
   "source": [
    "# Counting Affine Calculator and Applications\n",
    "# Figure 1:\n",
    "#    for (i = 0; i < N; ++i)\n",
    "# S1:  t[i] = f(a[i])\n",
    "#    for (i = 0; i < N; ++i)\n",
    "# S2:  b[i] = g(t[N-i-1])\n",
    "#\n",
    "# Section 2. Syntax\n",
    "idom = UnionSet(\"[n] -> {S1[i] : 0 <= i <= n; S2[i]: 0 <= i <= n};\")\n",
    "print(\"Iteration Domain: \",type(idom), idom)"
   ]
  },
  {
   "cell_type": "code",
   "execution_count": 18,
   "id": "3ccfb756",
   "metadata": {},
   "outputs": [
    {
     "name": "stdout",
     "output_type": "stream",
     "text": [
      "Read access relations:  <class 'islpy._isl.UnionMap'> [n] -> { S1[i] -> a[i]; S2[i] -> t[-1 + n - i] }\n"
     ]
    }
   ],
   "source": [
    "read_acc = UnionMap(\"[n]-> {S1[i] -> a[i]; S2[i] -> t[n-i-1]}\")\n",
    "print(\"Read access relations: \", type(read_acc), read_acc)"
   ]
  },
  {
   "cell_type": "code",
   "execution_count": 26,
   "id": "ad81c8ef",
   "metadata": {},
   "outputs": [
    {
     "name": "stdout",
     "output_type": "stream",
     "text": [
      "Writer access relations:  <class 'islpy._isl.UnionMap'> { S2[i] -> b[i]; S1[i] -> t[i] }\n"
     ]
    }
   ],
   "source": [
    "write_acc = UnionMap(\"{S1[i] -> t[i]; S2[i]->b[i]}\")\n",
    "print(\"Writer access relations: \", type(write_acc), write_acc)"
   ]
  },
  {
   "cell_type": "code",
   "execution_count": 20,
   "id": "5d9eb9ae",
   "metadata": {},
   "outputs": [
    {
     "name": "stdout",
     "output_type": "stream",
     "text": [
      "<class 'islpy._isl.UnionMap'> [n] -> { S2[i] -> b[i] : 0 <= i <= n; S1[i] -> t[i] : 0 <= i <= n }\n"
     ]
    }
   ],
   "source": [
    "W = write_acc.intersect_domain(idom)\n",
    "print(type(W), W)"
   ]
  },
  {
   "cell_type": "code",
   "execution_count": 21,
   "id": "d2b3e826",
   "metadata": {},
   "outputs": [
    {
     "name": "stdout",
     "output_type": "stream",
     "text": [
      "<class 'islpy._isl.UnionMap'> [n] -> { S2[i] -> t[-1 + n - i] : 0 <= i <= n; S1[i] -> a[i] : 0 <= i <= n }\n"
     ]
    }
   ],
   "source": [
    "R = read_acc.intersect_domain(idom)\n",
    "print(type(R), R)"
   ]
  },
  {
   "cell_type": "code",
   "execution_count": 22,
   "id": "ec26451c",
   "metadata": {},
   "outputs": [
    {
     "name": "stdout",
     "output_type": "stream",
     "text": [
      "<class 'islpy._isl.UnionMap'> [n] -> { [S2[i] -> t[-1 + n - i]] -> t[-1 + n - i] : 0 <= i <= n; [S1[i] -> a[i]] -> a[i] : 0 <= i <= n }\n"
     ]
    }
   ],
   "source": [
    "rmR = R.range_map() # range_map R\n",
    "print(type(rmR), rmR)"
   ]
  },
  {
   "cell_type": "code",
   "execution_count": 23,
   "id": "33dfb6c2",
   "metadata": {},
   "outputs": [
    {
     "data": {
      "text/plain": [
       "(0,\n",
       " UnionMap(\"[n] -> { S1[i] -> S2[i' = -1 + n - i] : 0 <= i < n }\"),\n",
       " UnionMap(\"[n] -> {  }\"),\n",
       " UnionMap(\"[n] -> { S2[i = n] -> t[-1] : n >= 0; S1[i] -> a[i] : 0 <= i <= n }\"),\n",
       " UnionMap(\"[n] -> {  }\"))"
      ]
     },
     "execution_count": 23,
     "metadata": {},
     "output_type": "execute_result"
    }
   ],
   "source": [
    "# Section 3. BASIC OPERATIONS\n",
    "S = UnionMap(\"{S1[i]->[0,i];S2[i]->[1,i]}\") #schedule.\n",
    "R.compute_flow(W, W, S)"
   ]
  },
  {
   "cell_type": "code",
   "execution_count": 27,
   "id": "14b5ac69",
   "metadata": {},
   "outputs": [
    {
     "name": "stdout",
     "output_type": "stream",
     "text": [
      "<class 'islpy._isl.UnionMap'> [n] -> { S1[i] -> S2[i' = -1 + n - i] : 0 <= i < n }\n"
     ]
    }
   ],
   "source": [
    "T = R.compute_flow(W,W,S)\n",
    "DR = T[1] # dependence relation \n",
    "print(type(DR),DR)"
   ]
  },
  {
   "cell_type": "code",
   "execution_count": 28,
   "id": "88bccd1c",
   "metadata": {},
   "outputs": [
    {
     "name": "stdout",
     "output_type": "stream",
     "text": [
      "Schedule:  { S2[i] -> [1, i]; S1[i] -> [0, i] }\n",
      "S^-1 =  { [1, i1] -> S2[i = i1]; [0, i1] -> S1[i = i1] }\n",
      "Dependence Relation: [n] -> { S1[i] -> S2[i' = -1 + n - i] : 0 <= i < n }\n",
      "<class 'islpy._isl.UnionMap'> [n] -> { [0, i1] -> [1, -1 + n - i1] : 0 <= i1 < n }\n"
     ]
    },
    {
     "data": {
      "text/plain": [
       "UnionSet(\"[n] -> { [1, i1] : (1 + n + i1) mod 2 = 0 and -n < i1 < n }\")"
      ]
     },
     "execution_count": 28,
     "metadata": {},
     "output_type": "execute_result"
    }
   ],
   "source": [
    "# deltas(S^-1.Dep.S);\n",
    "invS = S.reverse()\n",
    "print(\"Schedule: \", S)\n",
    "print(\"S^-1 = \", invS)\n",
    "print(\"Dependence Relation:\", DR)\n",
    "DepDist = invS.apply_range(DR).apply_range(S)\n",
    "print(type(DepDist), DepDist)\n",
    "DepDist.deltas()"
   ]
  },
  {
   "cell_type": "code",
   "execution_count": 41,
   "id": "d6548a32",
   "metadata": {},
   "outputs": [
    {
     "name": "stdout",
     "output_type": "stream",
     "text": [
      "Schedule:  { S2[i] -> [1, i]; S1[i] -> [0, i] }\n",
      "Iteration Domain:  [n] -> { S1[i] : 0 <= i <= n; S2[i] : 0 <= i <= n }\n",
      "<class 'islpy._isl.UnionMap'> [n] -> { S2[i] -> [1, i] : 0 <= i <= n; S1[i] -> [0, i] : 0 <= i <= n }\n"
     ]
    }
   ],
   "source": [
    "# codegen(S * D)\n",
    "D = idom\n",
    "print(\"Schedule: \", S)\n",
    "print(\"Iteration Domain: \", D)\n",
    "out_schedule0 = S.intersect_domain(D)\n",
    "print(type(out_schedule0), out_schedule0)"
   ]
  },
  {
   "cell_type": "code",
   "execution_count": 42,
   "id": "e82d276d",
   "metadata": {},
   "outputs": [],
   "source": [
    "# These print utility functions I copied from Tobias Grosser's talk:\n",
    "# https://www.youtube.com/watch?v=mIBUY20d8c8\n",
    "def printAST(ast):\n",
    "    p = Printer.to_str(ast.get_ctx())\n",
    "    p = p.set_output_format(format.C)\n",
    "    p = p.print_ast_node(ast)\n",
    "    print(p.get_str())\n",
    "    \n",
    "def printSchedule(schedule):\n",
    "    p = Printer.to_str(schedule.get_ctx())\n",
    "    p = p.set_yaml_style(yaml_style.BLOCK)\n",
    "    p = p.print_schedule(schedule)\n",
    "    print(p.get_str())\n",
    "    \n",
    "def printNode(node):\n",
    "    p = Printer.to_str(node.get_ctx())\n",
    "    p = p.set_yaml_style(yaml_style.BLOCK)\n",
    "    p = p.print_schedule_node(node)\n",
    "    print(p.get_str())\n",
    "    \n",
    "def p(obj):\n",
    "    if (obj.__class__ == Schedule):\n",
    "        printSchedule(obj)\n",
    "    if (obj.__class__ == ScheduleNode):\n",
    "        printNode(obj)\n",
    "    if (obj.__class__ == AstNode):\n",
    "        printAST(obj)\n",
    "\n",
    "def printC(schedule):\n",
    "    astbuild = AstBuild.from_context(Set(\"{:}\"))\n",
    "    ast = astbuild.node_from_schedule(schedule)\n",
    "    p(ast)\n",
    "    \n",
    "def printCMap(schedule):\n",
    "    astbuild = AstBuild.from_context(Set(\"{:}\"))\n",
    "    ast = astbuild.node_from_schedule_map(schedule)\n",
    "    p(ast)"
   ]
  },
  {
   "cell_type": "code",
   "execution_count": 43,
   "id": "9d06971a",
   "metadata": {},
   "outputs": [
    {
     "name": "stdout",
     "output_type": "stream",
     "text": [
      "{\n",
      "  for (int c1 = 0; c1 <= n; c1 += 1)\n",
      "    S1(c1);\n",
      "  for (int c1 = 0; c1 <= n; c1 += 1)\n",
      "    S2(c1);\n",
      "}\n",
      "\n"
     ]
    }
   ],
   "source": [
    "printCMap(out_schedule0)"
   ]
  },
  {
   "cell_type": "code",
   "execution_count": 44,
   "id": "2d26907b",
   "metadata": {},
   "outputs": [
    {
     "name": "stdout",
     "output_type": "stream",
     "text": [
      "{\n",
      "  for (int c0 = -n + N - 1; c0 < min(0, N); c0 += 1)\n",
      "    S2(N - c0 - 1);\n",
      "  for (int c0 = 0; c0 <= n; c0 += 1) {\n",
      "    S1(c0);\n",
      "    if (N >= c0 + 1 && n + c0 + 1 >= N)\n",
      "      S2(N - c0 - 1);\n",
      "  }\n",
      "  for (int c0 = max(n + 1, -n + N - 1); c0 < N; c0 += 1)\n",
      "    S2(N - c0 - 1);\n",
      "}\n",
      "\n"
     ]
    }
   ],
   "source": [
    "S2 = UnionMap(\"[N]->{S1[i]->[i,0];S2[i]->[N-i-1,1]}\") # Schedule - fuse S1 and S2\n",
    "out_schedule1 = S2.intersect_domain(D)\n",
    "printCMap(out_schedule1)"
   ]
  },
  {
   "cell_type": "code",
   "execution_count": 52,
   "id": "17cd4d78",
   "metadata": {},
   "outputs": [
    {
     "name": "stdout",
     "output_type": "stream",
     "text": [
      "{ [new, old] -> [o0, o1] : (new + old + o0 + o1) mod 2 = 0 and 0 <= o0 <= 1 and 0 <= o1 <= 1 }  is exact?  True\n"
     ]
    },
    {
     "name": "stderr",
     "output_type": "stream",
     "text": [
      "{ [new, old] -> [o0, o1] : exists (e0 = floor((new + old + o0 + o1)/2): 2e0 = new + old + o0 + o1 and o0 >= 0 and o0 <= 1 and o1 >= 0 and o1 <= 1) }\n"
     ]
    }
   ],
   "source": [
    "# Section 4. Transitive Closures\n",
    "\n",
    "# Figure 2: Flip-floop example\n",
    "# double x[2][10];\n",
    "# int old = 0, new = 1;\n",
    "# int i,t;\n",
    "# for (t = 0; t < 1000; t++) {\n",
    "#   for (i = 0; i < 10; i++)\n",
    "#     x[new][i] = g(x[old][i]);\n",
    "#   new = (new + 1) % 2;\n",
    "#   old = (old + 1) % 2;\n",
    "# }\n",
    "\n",
    "T = Map(\"{[new, old] -> [(new + 1) % 2, (old + 1) % 2]}\")\n",
    "[TC, isExact] = T.transitive_closure()\n",
    "print(TC, \" is exact? \", isExact)\n",
    "TC.dump()"
   ]
  },
  {
   "cell_type": "code",
   "execution_count": 65,
   "id": "31131aae",
   "metadata": {},
   "outputs": [
    {
     "name": "stdout",
     "output_type": "stream",
     "text": [
      "SIMPLIFY with affine hull:\n"
     ]
    },
    {
     "name": "stderr",
     "output_type": "stream",
     "text": [
      "{ [new, old] -> [o0, o1] : exists (e0 = floor((new + old + o0 + o1)/2): 2e0 = new + old + o0 + o1 and o0 >= 0 and o0 <= 1 and o1 >= 0 and o1 <= 1) }\n",
      "{ [new, old] -> [o0, o1] : exists (e0 = floor((1 + o0 + o1)/2): new = 0 and old = 1 and 2e0 = 1 + o0 + o1 and o0 >= 0 and o0 <= 1 and o1 >= 0 and o1 <= 1) }\n",
      "{ [new, old] -> [o0, o1] : new = 0 and old = 1 and o1 = 1 - o0 }\n"
     ]
    }
   ],
   "source": [
    "# { [i0, i1] : exists (e0 = [(-1 - i0 + i1)/2]: 2e0= -1 - i0 + i1 and i0 >= 0 and i0 <= 1 and i1>= 0 and i1 <= 1) }\n",
    "initial_state = Set(\"{[0,1]}\")\n",
    "TC_init = TC.intersect_domain(initial_state)\n",
    "TC.dump()\n",
    "TC_init.dump()\n"
   ]
  },
  {
   "cell_type": "code",
   "execution_count": 67,
   "id": "cee73bfc",
   "metadata": {},
   "outputs": [
    {
     "name": "stdout",
     "output_type": "stream",
     "text": [
      "SIMPLIFY using affine hull:\n"
     ]
    },
    {
     "name": "stderr",
     "output_type": "stream",
     "text": [
      "{ [new, old] -> [o0, o1] : new = 0 and old = 1 and o1 = 1 - o0 }\n"
     ]
    }
   ],
   "source": [
    "print(\"SIMPLIFY using affine hull:\")\n",
    "TC_init_simplify = TC_init.affine_hull()\n",
    "TC_init_simplify.dump()"
   ]
  },
  {
   "cell_type": "code",
   "execution_count": 90,
   "id": "0e088efb",
   "metadata": {},
   "outputs": [
    {
     "name": "stdout",
     "output_type": "stream",
     "text": [
      "TRANSITIVE CLOSURE:\n",
      "(T^+)(Init) + Init\n"
     ]
    },
    {
     "name": "stderr",
     "output_type": "stream",
     "text": [
      "{ zero[i, j] -> one[o0, o1] : o0 = 0 and o1 = 0; one[i, j] -> two[o0, o1] : o0 = i and o1 = j and i >= 101; one[i, j] -> one[o0, o1] : (o0 = 4 + i and o1 = j and i <= 100) or (o0 = 2 + i and o1 = 1 + j and i <= 100) }\n",
      "{ zero[i, j] -> one[o0, o1] : (2o1 = o0 and o0 >= 2 and o0 <= 102) or (o0 = 0 and o1 = 0) or (exists (e0 = floor((o0)/4): o1 = 0 and 4e0 = o0 and o0 >= 4 and o0 <= 104)) or (exists (e0 = floor((o0)/2), e1 = floor((o0 + 2o1)/4): 2e0 = o0 and 4e1 = o0 + 2o1 and o0 <= 104 and o1 > 0 and 2o1 <= -4 + o0)); one[i, j] -> two[o0, o1] : (o0 = i and o1 = j and i >= 101) or (2o1 = -i + 2j + o0 and o0 >= 2 + i and o0 >= 101 and o0 <= 102) or (exists (e0 = floor((-i + o0)/4): o1 = j and 4e0 = -i + o0 and o0 >= 4 + i and o0 >= 101 and o0 <= 104)) or (exists (e0 = floor((i + o0)/2), e1 = floor((-i + 2j + o0 + 2o1)/4): 2e0 = i + o0 and 4e1 = -i + 2j + o0 + 2o1 and o0 >= 101 and o0 <= 104 and o1 > j and 2o1 <= -4 - i + 2j + o0)); zero[i, j] -> two[o0, o1] : (2o1 = o0 and o0 >= 101 and o0 <= 102) or (exists (e0 = floor((o0)/4): o1 = 0 and 4e0 = o0 and o0 >= 101 and o0 <= 104)) or (exists (e0 = floor((o0)/2), e1 = floor((o0 + 2o1)/4): 2e0 = o0 and 4e1 = o0 + 2o1 and o0 <= 104 and o1 > 0 and 2o1 <= -4 + o0 and o0 >= 101)); one[i, j] -> one[o0, o1] : (2o1 = -i + 2j + o0 and o0 >= 2 + i and o0 <= 102) or (exists (e0 = floor((-i + o0)/4): o1 = j and 4e0 = -i + o0 and o0 >= 4 + i and o0 <= 104)) or (exists (e0 = floor((i + o0)/2), e1 = floor((-i + 2j + o0 + 2o1)/4): 2e0 = i + o0 and 4e1 = -i + 2j + o0 + 2o1 and o0 <= 104 and o1 > j and 2o1 <= -4 - i + 2j + o0)) }\n"
     ]
    },
    {
     "data": {
      "text/plain": [
       "UnionSet(\"{ one[i0, i1] : i0 <= 104 and ((2i1 = i0 and 2 <= i0 <= 102) or ((i0) mod 2 = 0 and (i0 + 2i1) mod 4 = 0 and i1 > 0 and 2i1 <= -4 + i0)); one[0, 0]; one[i0, 0] : (i0) mod 4 = 0 and 4 <= i0 <= 104; two[i0, i1] : 101 <= i0 <= 104 and ((2i1 = i0 and i0 <= 102) or ((i0) mod 2 = 0 and (i0 + 2i1) mod 4 = 0 and i1 > 0 and 2i1 <= -4 + i0)); two[i0, 0] : (i0) mod 4 = 0 and 101 <= i0 <= 104; zero[i, j] }\")"
      ]
     },
     "execution_count": 90,
     "metadata": {},
     "output_type": "execute_result"
    }
   ],
   "source": [
    "# Figure 3. Example from [10, page 35]\n",
    "#\n",
    "# i = 0, j = 0\n",
    "# while (i <= 100) {\n",
    "#   if (A[i] <= A[j]) {\n",
    "#     i = i + 2;\n",
    "#     j = j + 1;\n",
    "#   } else {\n",
    "#     i = i + 4;\n",
    "#   }\n",
    "# }\n",
    "# As a second example, reproduced in Figure 3. In this case, we consider three program points:\n",
    "# at the start (zero), before the loop and after the loop (two). The transitiions between these points can\n",
    "# be described as:\n",
    "\n",
    "T = UnionMap(\"{zero[i,j]->one[0,0]; one[i,j] -> one[i+4,j]: i <=100; one[i,j] -> one[i+2, j+1]: i <= 100; one[i,j]->two[i,j]: i > 100}\")\n",
    "T.dump()\n",
    "init_state = Set(\"{zero[i,j]}\")\n",
    "[TC, isExact] = T.transitive_closure()\n",
    "print(\"TRANSITIVE CLOSURE:\")\n",
    "TC.dump()\n",
    "\n",
    "print(\"(T^+)(Init) + Init\")\n",
    "TC.intersect_domain(init_state).range().union(init_state)\n"
   ]
  },
  {
   "cell_type": "code",
   "execution_count": null,
   "id": "06fdf306",
   "metadata": {},
   "outputs": [],
   "source": []
  }
 ],
 "metadata": {
  "kernelspec": {
   "display_name": "Python 3 (ipykernel)",
   "language": "python",
   "name": "python3"
  },
  "language_info": {
   "codemirror_mode": {
    "name": "ipython",
    "version": 3
   },
   "file_extension": ".py",
   "mimetype": "text/x-python",
   "name": "python",
   "nbconvert_exporter": "python",
   "pygments_lexer": "ipython3",
   "version": "3.9.16"
  }
 },
 "nbformat": 4,
 "nbformat_minor": 5
}
