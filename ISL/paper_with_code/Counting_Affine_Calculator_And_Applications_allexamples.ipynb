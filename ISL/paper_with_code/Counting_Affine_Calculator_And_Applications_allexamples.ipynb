{
 "cells": [
  {
   "cell_type": "markdown",
   "id": "a5f476ab",
   "metadata": {},
   "source": [
    "# This notebook reproduces all the examples in Sven Vergoolaege's paper \"Counting Affine Calculator and Applications.\""
   ]
  },
  {
   "cell_type": "code",
   "execution_count": 42,
   "id": "bb8835e6",
   "metadata": {},
   "outputs": [
    {
     "name": "stdout",
     "output_type": "stream",
     "text": [
      "Populating the interactive namespace from numpy and matplotlib\n"
     ]
    }
   ],
   "source": [
    "%pylab inline\n",
    "# Load islpy and islplot\n",
    "from islpy import *\n",
    "from islplot.plotter import *"
   ]
  },
  {
   "cell_type": "code",
   "execution_count": 43,
   "metadata": {},
   "outputs": [
    {
     "name": "stdout",
     "output_type": "stream",
     "text": [
      "Iteration Domain:  <class 'islpy._isl.UnionSet'> [n] -> { S1[i] : 0 <= i <= n; S2[i] : 0 <= i <= n }\n"
     ]
    }
   ],
   "source": [
    "# Counting Affine Calculator and Applications\n",
    "# Figure 1:\n",
    "#    for (i = 0; i < N; ++i)\n",
    "# S1:  t[i] = f(a[i])\n",
    "#    for (i = 0; i < N; ++i)\n",
    "# S2:  b[i] = g(t[N-i-1])\n",
    "#\n",
    "# Section 2. Syntax\n",
    "idom = UnionSet(\"[n] -> {S1[i] : 0 <= i <= n; S2[i]: 0 <= i <= n};\")\n",
    "print(\"Iteration Domain: \",type(idom), idom)"
   ]
  },
  {
   "cell_type": "code",
   "execution_count": 44,
   "metadata": {},
   "outputs": [
    {
     "name": "stdout",
     "output_type": "stream",
     "text": [
      "Read access relations:  <class 'islpy._isl.UnionMap'> [n] -> { S1[i] -> a[i]; S2[i] -> t[-1 + n - i] }\n"
     ]
    }
   ],
   "source": [
    "read_acc = UnionMap(\"[n]-> {S1[i] -> a[i]; S2[i] -> t[n-i-1]}\")\n",
    "print(\"Read access relations: \", type(read_acc), read_acc)"
   ]
  },
  {
   "cell_type": "code",
   "execution_count": 45,
   "metadata": {},
   "outputs": [
    {
     "name": "stdout",
     "output_type": "stream",
     "text": [
      "Writer access relations:  <class 'islpy._isl.UnionMap'> { S2[i] -> b[i]; S1[i] -> t[i] }\n"
     ]
    }
   ],
   "source": [
    "write_acc = UnionMap(\"{S1[i] -> t[i]; S2[i]->b[i]}\")\n",
    "print(\"Writer access relations: \", type(write_acc), write_acc)"
   ]
  },
  {
   "cell_type": "code",
   "execution_count": 46,
   "metadata": {},
   "outputs": [
    {
     "name": "stdout",
     "output_type": "stream",
     "text": [
      "<class 'islpy._isl.UnionMap'> [n] -> { S2[i] -> b[i] : 0 <= i <= n; S1[i] -> t[i] : 0 <= i <= n }\n"
     ]
    }
   ],
   "source": [
    "W = write_acc.intersect_domain(idom)\n",
    "print(type(W), W)"
   ]
  },
  {
   "cell_type": "code",
   "execution_count": 47,
   "metadata": {},
   "outputs": [
    {
     "name": "stdout",
     "output_type": "stream",
     "text": [
      "<class 'islpy._isl.UnionMap'> [n] -> { S2[i] -> t[-1 + n - i] : 0 <= i <= n; S1[i] -> a[i] : 0 <= i <= n }\n"
     ]
    }
   ],
   "source": [
    "R = read_acc.intersect_domain(idom)\n",
    "print(type(R), R)"
   ]
  },
  {
   "cell_type": "code",
   "execution_count": 48,
   "metadata": {},
   "outputs": [
    {
     "name": "stdout",
     "output_type": "stream",
     "text": [
      "<class 'islpy._isl.UnionMap'> [n] -> { [S2[i] -> t[-1 + n - i]] -> t[-1 + n - i] : 0 <= i <= n; [S1[i] -> a[i]] -> a[i] : 0 <= i <= n }\n"
     ]
    }
   ],
   "source": [
    "rmR = R.range_map() # range_map R\n",
    "print(type(rmR), rmR)"
   ]
  },
  {
   "cell_type": "code",
   "execution_count": 56,
   "metadata": {},
   "outputs": [
    {
     "data": {
      "text/plain": [
       "(0,\n",
       " UnionMap(\"[n] -> { S1[i] -> S2[i' = -1 + n - i] : 0 <= i < n }\"),\n",
       " UnionMap(\"[n] -> {  }\"),\n",
       " UnionMap(\"[n] -> { S2[i = n] -> t[-1] : n >= 0; S1[i] -> a[i] : 0 <= i <= n }\"),\n",
       " UnionMap(\"[n] -> {  }\"))"
      ]
     },
     "execution_count": 56,
     "metadata": {},
     "output_type": "execute_result"
    }
   ],
   "source": [
    "# Section 3. BASIC OPERATIONS\n",
    "S = UnionMap(\"{S1[i]->[0,i];S2[i]->[1,i]}\") #schedule.\n",
    "R.compute_flow(W, W, S)"
   ]
  },
  {
   "cell_type": "code",
   "execution_count": 57,
   "metadata": {},
   "outputs": [
    {
     "name": "stdout",
     "output_type": "stream",
     "text": [
      "<class 'islpy._isl.UnionMap'> [n] -> { S1[i] -> S2[i' = -1 + n - i] : 0 <= i < n }\n"
     ]
    }
   ],
   "source": [
    "T = R.compute_flow(W,W,S)\n",
    "DR = T[1] # dependence relation \n",
    "print(type(DR),DR)"
   ]
  },
  {
   "cell_type": "code",
   "execution_count": 58,
   "metadata": {},
   "outputs": [
    {
     "name": "stdout",
     "output_type": "stream",
     "text": [
      "Schedule:  { S2[i] -> [1, i]; S1[i] -> [0, i] }\n",
      "S^-1 =  { [1, i1] -> S2[i = i1]; [0, i1] -> S1[i = i1] }\n",
      "Dependence Relation: [n] -> { S1[i] -> S2[i' = -1 + n - i] : 0 <= i < n }\n",
      "<class 'islpy._isl.UnionMap'> [n] -> { [0, i1] -> [1, -1 + n - i1] : 0 <= i1 < n }\n"
     ]
    },
    {
     "data": {
      "text/plain": [
       "UnionSet(\"[n] -> { [1, i1] : (1 + n + i1) mod 2 = 0 and -n < i1 < n }\")"
      ]
     },
     "execution_count": 58,
     "metadata": {},
     "output_type": "execute_result"
    }
   ],
   "source": [
    "# deltas(S^-1.Dep.S);\n",
    "invS = S.reverse()\n",
    "print(\"Schedule: \", S)\n",
    "print(\"S^-1 = \", invS)\n",
    "print(\"Dependence Relation:\", DR)\n",
    "DepDist = invS.apply_range(DR).apply_range(S)\n",
    "print(type(DepDist), DepDist)\n",
    "DepDist.deltas()"
   ]
  },
  {
   "cell_type": "code",
   "execution_count": 59,
   "metadata": {},
   "outputs": [
    {
     "name": "stdout",
     "output_type": "stream",
     "text": [
      "Schedule:  { S2[i] -> [1, i]; S1[i] -> [0, i] }\n",
      "Iteration Domain:  [n] -> { S1[i] : 0 <= i <= n; S2[i] : 0 <= i <= n }\n",
      "<class 'islpy._isl.UnionMap'> [n] -> { S2[i] -> [1, i] : 0 <= i <= n; S1[i] -> [0, i] : 0 <= i <= n }\n"
     ]
    }
   ],
   "source": [
    "# codegen(S * D)\n",
    "D = idom\n",
    "print(\"Schedule: \", S)\n",
    "print(\"Iteration Domain: \", D)\n",
    "out_schedule0 = S.intersect_domain(D)\n",
    "print(type(out_schedule0), out_schedule0)"
   ]
  },
  {
   "cell_type": "code",
   "execution_count": 63,
   "metadata": {},
   "outputs": [],
   "source": [
    "# These print utility functions I copied from Tobias Grosser's talk:\n",
    "# https://www.youtube.com/watch?v=mIBUY20d8c8\n",
    "def printAST(ast):\n",
    "    p = Printer.to_str(ast.get_ctx())\n",
    "    p = p.set_output_format(format.C)\n",
    "    p = p.print_ast_node(ast)\n",
    "    print(p.get_str())\n",
    "    \n",
    "def printSchedule(schedule):\n",
    "    p = Printer.to_str(schedule.get_ctx())\n",
    "    p = p.set_yaml_style(yaml_style.BLOCK)\n",
    "    p = p.print_schedule(schedule)\n",
    "    print(p.get_str())\n",
    "    \n",
    "def printNode(node):\n",
    "    p = Printer.to_str(node.get_ctx())\n",
    "    p = p.set_yaml_style(yaml_style.BLOCK)\n",
    "    p = p.print_schedule_node(node)\n",
    "    print(p.get_str())\n",
    "    \n",
    "def p(obj):\n",
    "    if (obj.__class__ == Schedule):\n",
    "        printSchedule(obj)\n",
    "    if (obj.__class__ == ScheduleNode):\n",
    "        printNode(obj)\n",
    "    if (obj.__class__ == AstNode):\n",
    "        printAST(obj)\n",
    "\n",
    "def printC(schedule):\n",
    "    astbuild = AstBuild.from_context(Set(\"{:}\"))\n",
    "    ast = astbuild.node_from_schedule(schedule)\n",
    "    p(ast)\n",
    "    \n",
    "def printCMap(schedule):\n",
    "    astbuild = AstBuild.from_context(Set(\"{:}\"))\n",
    "    ast = astbuild.node_from_schedule_map(schedule)\n",
    "    p(ast)"
   ]
  },
  {
   "cell_type": "code",
   "execution_count": 64,
   "metadata": {},
   "outputs": [
    {
     "name": "stdout",
     "output_type": "stream",
     "text": [
      "{\n",
      "  for (int c1 = 0; c1 <= n; c1 += 1)\n",
      "    S1(c1);\n",
      "  for (int c1 = 0; c1 <= n; c1 += 1)\n",
      "    S2(c1);\n",
      "}\n",
      "\n"
     ]
    }
   ],
   "source": [
    "printCMap(out_schedule0)"
   ]
  },
  {
   "cell_type": "code",
   "execution_count": 65,
   "metadata": {},
   "outputs": [
    {
     "name": "stdout",
     "output_type": "stream",
     "text": [
      "{\n",
      "  for (int c0 = -n + N - 1; c0 < min(0, N); c0 += 1)\n",
      "    S2(N - c0 - 1);\n",
      "  for (int c0 = 0; c0 <= n; c0 += 1) {\n",
      "    S1(c0);\n",
      "    if (N >= c0 + 1 && n + c0 + 1 >= N)\n",
      "      S2(N - c0 - 1);\n",
      "  }\n",
      "  for (int c0 = max(n + 1, -n + N - 1); c0 < N; c0 += 1)\n",
      "    S2(N - c0 - 1);\n",
      "}\n",
      "\n"
     ]
    }
   ],
   "source": [
    "S2 = UnionMap(\"[N]->{S1[i]->[i,0];S2[i]->[N-i-1,1]}\") #schedule - fuse S1 and S2\n",
    "out_schedule1 = S2.intersect_domain(D)\n",
    "printCMap(out_schedule1)"
   ]
  },
  {
   "cell_type": "code",
   "execution_count": null,
   "metadata": {},
   "outputs": [],
   "source": []
  },
  {
   "cell_type": "code",
   "execution_count": null,
   "metadata": {},
   "outputs": [],
   "source": []
  }
 ],
 "metadata": {
  "kernelspec": {
   "display_name": "Python 3 (ipykernel)",
   "language": "python",
   "name": "python3"
  },
  "language_info": {
   "codemirror_mode": {
    "name": "ipython",
    "version": 3
   },
   "file_extension": ".py",
   "mimetype": "text/x-python",
   "name": "python",
   "nbconvert_exporter": "python",
   "pygments_lexer": "ipython3",
   "version": "3.9.16"
  }
 },
 "nbformat": 4,
 "nbformat_minor": 5
}
